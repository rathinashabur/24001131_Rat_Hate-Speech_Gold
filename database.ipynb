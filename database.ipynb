{
 "cells": [
  {
   "cell_type": "code",
   "execution_count": 1,
   "metadata": {},
   "outputs": [],
   "source": [
    "import pandas as pd\n",
    "import sqlite3 as sq3\n",
    "\n",
    "def read_csv_with_encoding(file_path, encodings_to_try):\n",
    "    for encoding in encodings_to_try:\n",
    "        try:\n",
    "            df = pd.read_csv(file_path, encoding=encoding)\n",
    "            return df\n",
    "        except UnicodeDecodeError:\n",
    "            pass\n",
    "    raise ValueError(\"Unable to read the CSV file with any encoding.\")\n",
    "\n",
    "encodings_to_try = ['utf-8', 'latin1', 'cp1252', 'iso-8859-1']\n",
    "\n",
    "try:\n",
    "    kamusalay = read_csv_with_encoding('new_kamusalay.csv', encodings_to_try)\n",
    "except ValueError as e:\n",
    "    print(e)\n",
    "\n",
    "try:\n",
    "    abusive = read_csv_with_encoding('abusive.csv', encodings_to_try)\n",
    "except ValueError as e:\n",
    "    print(e)\n",
    "\n",
    "\n",
    "conn = sq3.connect(\"database.db\")\n",
    "\n",
    "conn.commit()\n",
    "conn.close()"
   ]
  }
 ],
 "metadata": {
  "kernelspec": {
   "display_name": "Python 3 (ipykernel)",
   "language": "python",
   "name": "python3"
  },
  "language_info": {
   "codemirror_mode": {
    "name": "ipython",
    "version": 3
   },
   "file_extension": ".py",
   "mimetype": "text/x-python",
   "name": "python",
   "nbconvert_exporter": "python",
   "pygments_lexer": "ipython3",
   "version": "3.11.4"
  }
 },
 "nbformat": 4,
 "nbformat_minor": 4
}
